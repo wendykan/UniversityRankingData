{
 "cells": [
  {
   "cell_type": "code",
   "execution_count": 23,
   "metadata": {
    "collapsed": true
   },
   "outputs": [],
   "source": [
    "import pandas as pd"
   ]
  },
  {
   "cell_type": "code",
   "execution_count": 24,
   "metadata": {
    "collapsed": false
   },
   "outputs": [
    {
     "name": "stdout",
     "output_type": "stream",
     "text": [
      "[2005, 2006, 2007, 2008, 2009, 2010, 2011, 2012, 2013, 2014, 2015]\n"
     ]
    }
   ],
   "source": [
    "years = range(2005,2016)\n",
    "print years"
   ]
  },
  {
   "cell_type": "code",
   "execution_count": 25,
   "metadata": {
    "collapsed": false
   },
   "outputs": [],
   "source": [
    "\n",
    "\n",
    "for year in years:\n",
    "    sdat = pd.read_csv('university rankings/SRanking'+str(year)+'.csv')\n",
    "    sdat = sdat.drop('Country/Region',axis=1)\n",
    "    sdat['Year'] = year\n",
    "    if year ==2005:\n",
    "        alldata = sdat\n",
    "    else:\n",
    "        alldata = alldata.append(sdat,ignore_index=True)\n",
    "    "
   ]
  },
  {
   "cell_type": "code",
   "execution_count": 26,
   "metadata": {
    "collapsed": false
   },
   "outputs": [
    {
     "data": {
      "text/html": [
       "<div>\n",
       "<table border=\"1\" class=\"dataframe\">\n",
       "  <thead>\n",
       "    <tr style=\"text-align: right;\">\n",
       "      <th></th>\n",
       "      <th>World Rank</th>\n",
       "      <th>Institution</th>\n",
       "      <th>National Rank</th>\n",
       "      <th>Total Score</th>\n",
       "      <th>Alumni</th>\n",
       "      <th>Award</th>\n",
       "      <th>HiCi</th>\n",
       "      <th>N&amp;S</th>\n",
       "      <th>PUB</th>\n",
       "      <th>PCP</th>\n",
       "      <th>Year</th>\n",
       "    </tr>\n",
       "  </thead>\n",
       "  <tbody>\n",
       "    <tr>\n",
       "      <th>0</th>\n",
       "      <td>1</td>\n",
       "      <td>Harvard University</td>\n",
       "      <td>1</td>\n",
       "      <td>100.0</td>\n",
       "      <td>100.0</td>\n",
       "      <td>100.0</td>\n",
       "      <td>100.0</td>\n",
       "      <td>100.0</td>\n",
       "      <td>100.0</td>\n",
       "      <td>76.6</td>\n",
       "      <td>2015</td>\n",
       "    </tr>\n",
       "    <tr>\n",
       "      <th>1</th>\n",
       "      <td>2</td>\n",
       "      <td>Stanford University</td>\n",
       "      <td>2</td>\n",
       "      <td>73.3</td>\n",
       "      <td>40.7</td>\n",
       "      <td>89.6</td>\n",
       "      <td>80.1</td>\n",
       "      <td>70.1</td>\n",
       "      <td>70.6</td>\n",
       "      <td>53.8</td>\n",
       "      <td>2015</td>\n",
       "    </tr>\n",
       "    <tr>\n",
       "      <th>2</th>\n",
       "      <td>3</td>\n",
       "      <td>Massachusetts Institute of Technology (MIT)</td>\n",
       "      <td>3</td>\n",
       "      <td>70.4</td>\n",
       "      <td>68.2</td>\n",
       "      <td>80.7</td>\n",
       "      <td>60.6</td>\n",
       "      <td>73.1</td>\n",
       "      <td>61.1</td>\n",
       "      <td>68.0</td>\n",
       "      <td>2015</td>\n",
       "    </tr>\n",
       "    <tr>\n",
       "      <th>3</th>\n",
       "      <td>4</td>\n",
       "      <td>University of California, Berkeley</td>\n",
       "      <td>4</td>\n",
       "      <td>69.6</td>\n",
       "      <td>65.1</td>\n",
       "      <td>79.4</td>\n",
       "      <td>66.1</td>\n",
       "      <td>65.6</td>\n",
       "      <td>67.9</td>\n",
       "      <td>56.5</td>\n",
       "      <td>2015</td>\n",
       "    </tr>\n",
       "    <tr>\n",
       "      <th>4</th>\n",
       "      <td>5</td>\n",
       "      <td>University of Cambridge</td>\n",
       "      <td>1</td>\n",
       "      <td>68.8</td>\n",
       "      <td>77.1</td>\n",
       "      <td>96.6</td>\n",
       "      <td>50.8</td>\n",
       "      <td>55.6</td>\n",
       "      <td>66.4</td>\n",
       "      <td>55.8</td>\n",
       "      <td>2015</td>\n",
       "    </tr>\n",
       "  </tbody>\n",
       "</table>\n",
       "</div>"
      ],
      "text/plain": [
       "  World Rank                                  Institution National Rank  \\\n",
       "0          1                           Harvard University             1   \n",
       "1          2                          Stanford University             2   \n",
       "2          3  Massachusetts Institute of Technology (MIT)             3   \n",
       "3          4           University of California, Berkeley             4   \n",
       "4          5                      University of Cambridge             1   \n",
       "\n",
       "   Total Score  Alumni  Award   HiCi    N&S    PUB   PCP  Year  \n",
       "0        100.0   100.0  100.0  100.0  100.0  100.0  76.6  2015  \n",
       "1         73.3    40.7   89.6   80.1   70.1   70.6  53.8  2015  \n",
       "2         70.4    68.2   80.7   60.6   73.1   61.1  68.0  2015  \n",
       "3         69.6    65.1   79.4   66.1   65.6   67.9  56.5  2015  \n",
       "4         68.8    77.1   96.6   50.8   55.6   66.4  55.8  2015  "
      ]
     },
     "execution_count": 26,
     "metadata": {},
     "output_type": "execute_result"
    }
   ],
   "source": [
    "sdat.head()"
   ]
  },
  {
   "cell_type": "code",
   "execution_count": 27,
   "metadata": {
    "collapsed": false
   },
   "outputs": [
    {
     "data": {
      "text/plain": [
       "(4897, 11)"
      ]
     },
     "execution_count": 27,
     "metadata": {},
     "output_type": "execute_result"
    }
   ],
   "source": [
    "alldata.shape"
   ]
  },
  {
   "cell_type": "code",
   "execution_count": 28,
   "metadata": {
    "collapsed": true
   },
   "outputs": [],
   "source": [
    "alldata.to_csv('shanghaiData.csv',index=False)"
   ]
  },
  {
   "cell_type": "code",
   "execution_count": null,
   "metadata": {
    "collapsed": true
   },
   "outputs": [],
   "source": []
  }
 ],
 "metadata": {
  "kernelspec": {
   "display_name": "Python 2",
   "language": "python",
   "name": "python2"
  },
  "language_info": {
   "codemirror_mode": {
    "name": "ipython",
    "version": 2
   },
   "file_extension": ".py",
   "mimetype": "text/x-python",
   "name": "python",
   "nbconvert_exporter": "python",
   "pygments_lexer": "ipython2",
   "version": "2.7.11"
  }
 },
 "nbformat": 4,
 "nbformat_minor": 0
}
